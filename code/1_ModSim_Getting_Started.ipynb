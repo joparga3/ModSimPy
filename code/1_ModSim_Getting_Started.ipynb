{
 "cells": [
  {
   "cell_type": "markdown",
   "metadata": {
    "toc": true
   },
   "source": [
    "<h1>Table of Contents<span class=\"tocSkip\"></span></h1>\n",
    "<div class=\"toc\"><ul class=\"toc-item\"><li><span><a href=\"#What-will-be-covered?\" data-toc-modified-id=\"What-will-be-covered?-1\"><span class=\"toc-item-num\">1&nbsp;&nbsp;</span>What will be covered?</a></span></li><li><span><a href=\"#Bike-Share---Simulating-a-bike-share-system-in-a-community\" data-toc-modified-id=\"Bike-Share---Simulating-a-bike-share-system-in-a-community-2\"><span class=\"toc-item-num\">2&nbsp;&nbsp;</span>Bike Share - Simulating a bike share system in a community</a></span><ul class=\"toc-item\"><li><span><a href=\"#State-objects\" data-toc-modified-id=\"State-objects-2.1\"><span class=\"toc-item-num\">2.1&nbsp;&nbsp;</span>State objects</a></span><ul class=\"toc-item\"><li><span><a href=\"#Helper-function-I---moving-bikes\" data-toc-modified-id=\"Helper-function-I---moving-bikes-2.1.1\"><span class=\"toc-item-num\">2.1.1&nbsp;&nbsp;</span>Helper function I - moving bikes</a></span></li><li><span><a href=\"#Flip-statement\" data-toc-modified-id=\"Flip-statement-2.1.2\"><span class=\"toc-item-num\">2.1.2&nbsp;&nbsp;</span>Flip statement</a></span></li><li><span><a href=\"#Helper-function-II---simulating-a-TIME-STEP\" data-toc-modified-id=\"Helper-function-II---simulating-a-TIME-STEP-2.1.3\"><span class=\"toc-item-num\">2.1.3&nbsp;&nbsp;</span>Helper function II - simulating a TIME-STEP</a></span></li></ul></li><li><span><a href=\"#Time-Series-objects\" data-toc-modified-id=\"Time-Series-objects-2.2\"><span class=\"toc-item-num\">2.2&nbsp;&nbsp;</span>Time Series objects</a></span></li><li><span><a href=\"#Improving-caveats-in-the-first-created-bikeshare-simulation-system\" data-toc-modified-id=\"Improving-caveats-in-the-first-created-bikeshare-simulation-system-2.3\"><span class=\"toc-item-num\">2.3&nbsp;&nbsp;</span>Improving caveats in the first created bikeshare simulation system</a></span><ul class=\"toc-item\"><li><span><a href=\"#Run-simulation-function-to-capture-all-actions-together\" data-toc-modified-id=\"Run-simulation-function-to-capture-all-actions-together-2.3.1\"><span class=\"toc-item-num\">2.3.1&nbsp;&nbsp;</span>Run simulation function to capture all actions together</a></span></li><li><span><a href=\"#Sweeping-parameters\" data-toc-modified-id=\"Sweeping-parameters-2.3.2\"><span class=\"toc-item-num\">2.3.2&nbsp;&nbsp;</span>Sweeping parameters</a></span></li></ul></li></ul></li><li><span><a href=\"#World-population---simulating-population-growth\" data-toc-modified-id=\"World-population---simulating-population-growth-3\"><span class=\"toc-item-num\">3&nbsp;&nbsp;</span>World population - simulating population growth</a></span><ul class=\"toc-item\"><li><span><a href=\"#Growth-model-1---Linear-constant-growth\" data-toc-modified-id=\"Growth-model-1---Linear-constant-growth-3.1\"><span class=\"toc-item-num\">3.1&nbsp;&nbsp;</span>Growth model 1 - Linear constant growth</a></span></li><li><span><a href=\"#System-objects\" data-toc-modified-id=\"System-objects-3.2\"><span class=\"toc-item-num\">3.2&nbsp;&nbsp;</span>System objects</a></span></li><li><span><a href=\"#Improve-the-model-with-a-proportional-growth\" data-toc-modified-id=\"Improve-the-model-with-a-proportional-growth-3.3\"><span class=\"toc-item-num\">3.3&nbsp;&nbsp;</span>Improve the model with a proportional growth</a></span></li><li><span><a href=\"#Code-clean-up\" data-toc-modified-id=\"Code-clean-up-3.4\"><span class=\"toc-item-num\">3.4&nbsp;&nbsp;</span>Code clean up</a></span></li><li><span><a href=\"#Quadratic-growth\" data-toc-modified-id=\"Quadratic-growth-3.5\"><span class=\"toc-item-num\">3.5&nbsp;&nbsp;</span>Quadratic growth</a></span></li></ul></li><li><span><a href=\"#Projections-using-our-simulation-model\" data-toc-modified-id=\"Projections-using-our-simulation-model-4\"><span class=\"toc-item-num\">4&nbsp;&nbsp;</span>Projections using our simulation model</a></span></li><li><span><a href=\"#Differential-Equations-sig-SimPy\" data-toc-modified-id=\"Differential-Equations-sig-SimPy-5\"><span class=\"toc-item-num\">5&nbsp;&nbsp;</span>Differential Equations sig SimPy</a></span><ul class=\"toc-item\"><li><span><a href=\"#Symbols-and-functions\" data-toc-modified-id=\"Symbols-and-functions-5.1\"><span class=\"toc-item-num\">5.1&nbsp;&nbsp;</span>Symbols and functions</a></span></li><li><span><a href=\"#Solving-the-proportional-model-growth-function\" data-toc-modified-id=\"Solving-the-proportional-model-growth-function-5.2\"><span class=\"toc-item-num\">5.2&nbsp;&nbsp;</span>Solving the proportional model growth function</a></span></li><li><span><a href=\"#Solving-the-quadratic-growth-model-function\" data-toc-modified-id=\"Solving-the-quadratic-growth-model-function-5.3\"><span class=\"toc-item-num\">5.3&nbsp;&nbsp;</span>Solving the quadratic growth model function</a></span></li></ul></li></ul></div>"
   ]
  },
  {
   "cell_type": "markdown",
   "metadata": {},
   "source": [
    "Simulations are essential nowadays. Simulations are used pretty much everywhere as a starting point to design new systems, new processes, understand what would happen with new conditions, etc. Simulations are also a great way to avoid the need to having to run costly real life experiments in order to get data to backup decisions.\n",
    "\n",
    "In this first notebook we will cover the basics elements in the ModSim.py package to start being able to run our first simulations. We will cover 2 simple examples to get started and by the end of this notebook we will be able to jump to the notebook which will be full of end-to-end examples to practice."
   ]
  },
  {
   "cell_type": "markdown",
   "metadata": {},
   "source": [
    "# What will be covered?\n",
    "\n",
    "* **State objects** that contains variables that represent the state of a system, usually changing over time.\n",
    "* **flip function** to simulate random arrivals.\n",
    "* **TimeSeries object** and use it to store the value of a state variable as it changes over time\n",
    "* **SweepSeries** to store results from a series of simulations, mapping from the value of a parameter to the value of a resulting metric.\n",
    "* **System object** to contain the parameters of the model"
   ]
  },
  {
   "cell_type": "markdown",
   "metadata": {},
   "source": [
    "# Bike Share - Simulating a bike share system in a community\n",
    "\n",
    "Imagine a bike share system for students traveling between Olin College and Wellesley College, which are about 3 miles apart in eastern Massachusetts.\n",
    "\n",
    "Suppose the system contains:\n",
    "* 12 bikes\n",
    "* 2 bike racks, one at Olin and one at Wellesley\n",
    "* Each rack with the capacity to hold 12 bikes\n",
    "* As students arrive, check out a bike, and ride to the other campus, the number of bikes in each location changes. In the simulation.\n",
    "* Students arrive at the Olin station every 2 minutes, on average.\n",
    "* Students arrive at the Wellesley station every 2 minutes, on average."
   ]
  },
  {
   "cell_type": "code",
   "execution_count": 1,
   "metadata": {},
   "outputs": [],
   "source": [
    "from modsim import *"
   ]
  },
  {
   "cell_type": "markdown",
   "metadata": {},
   "source": [
    "## State objects"
   ]
  },
  {
   "cell_type": "markdown",
   "metadata": {},
   "source": [
    "We’ll need to keep track of where the bikes are. To do that, I’ll create a **State** object, which is defined in the modsim library:\n",
    "\n",
    "* The State object created by State is assigned to a new variable named *bikeshare*\n",
    "* We are going to initialise the system by assigning 10 bikes to Olin College and 2 to Wellesley College"
   ]
  },
  {
   "cell_type": "code",
   "execution_count": 2,
   "metadata": {},
   "outputs": [
    {
     "name": "stdout",
     "output_type": "stream",
     "text": [
      "10\n",
      "2\n"
     ]
    }
   ],
   "source": [
    "bikeshare = State(olin=10, wellesley=2)\n",
    "print(bikeshare.olin)\n",
    "print(bikeshare.wellesley)"
   ]
  },
  {
   "cell_type": "markdown",
   "metadata": {},
   "source": [
    "The state variables and their values make up the state of the system. We can update the state by assigning new values to the variables. For example, if a student moves a bike from Olin to Wellesley, we can figure out the new values and assign them:"
   ]
  },
  {
   "cell_type": "code",
   "execution_count": 3,
   "metadata": {},
   "outputs": [
    {
     "name": "stdout",
     "output_type": "stream",
     "text": [
      "8\n",
      "4\n"
     ]
    }
   ],
   "source": [
    "bikeshare.olin = 9\n",
    "bikeshare.wellesley = 3\n",
    "\n",
    "bikeshare.olin -= 1\n",
    "bikeshare.wellesley += 1\n",
    "\n",
    "print(bikeshare.olin)\n",
    "print(bikeshare.wellesley)"
   ]
  },
  {
   "cell_type": "markdown",
   "metadata": {},
   "source": [
    "### Helper function I - moving bikes"
   ]
  },
  {
   "cell_type": "code",
   "execution_count": 4,
   "metadata": {},
   "outputs": [],
   "source": [
    "# FUNCTIONS TO UPDATE THE SYSTEM WHEN THERE IS A MOVEMENT OF 1 BIKE\n",
    "def bike_to_wellesley():\n",
    "    print('Moving a bike to Wellesley College')\n",
    "    bikeshare.olin -= 1\n",
    "    bikeshare.wellesley += 1\n",
    "    \n",
    "def bike_to_olin():\n",
    "    print('Moving a bike to Olin College')\n",
    "    bikeshare.wellesley -= 1\n",
    "    bikeshare.olin += 1   "
   ]
  },
  {
   "cell_type": "markdown",
   "metadata": {},
   "source": [
    "### Flip statement\n",
    "\n",
    "The **flip** statement in modsim library provides a simple way of providing a probability (0-1) and getting the TRUE and FALSE values back from it. Example, if you provide a 0.7, you would get a TRUE returned 70% of the times and a FALSE 30% of the times."
   ]
  },
  {
   "cell_type": "code",
   "execution_count": 5,
   "metadata": {},
   "outputs": [
    {
     "name": "stdout",
     "output_type": "stream",
     "text": [
      "False\n",
      "True\n",
      "True\n",
      "True\n",
      "False\n",
      "False\n"
     ]
    }
   ],
   "source": [
    "print(flip(0.7))\n",
    "print(flip(0.7))\n",
    "print(flip(0.7))\n",
    "print(flip(0.7))\n",
    "print(flip(0.7))\n",
    "print(flip(0.7))"
   ]
  },
  {
   "cell_type": "markdown",
   "metadata": {},
   "source": [
    "So, for example, from the conditions mentioned:\n",
    "\n",
    "* Students arrive at the Olin station every 2 minutes, on average. --> meaning 50% chance every minute\n",
    "* Students arrive at the Wellesley station every 2 minutes, on average. --> meaning a 33% chance every minute\n",
    "\n",
    "We can simulate this by:"
   ]
  },
  {
   "cell_type": "code",
   "execution_count": 6,
   "metadata": {},
   "outputs": [],
   "source": [
    "if flip(0.5):\n",
    "    bike_to_wellesley()\n",
    "\n",
    "if flip(0.33):\n",
    "    bike_to_olin()"
   ]
  },
  {
   "cell_type": "markdown",
   "metadata": {},
   "source": [
    "### Helper function II - simulating a TIME-STEP\n",
    "\n",
    "We can combine the snippets into a function that simulates a **time step, which is an interval of time**, in this case one minute:"
   ]
  },
  {
   "cell_type": "code",
   "execution_count": 7,
   "metadata": {},
   "outputs": [],
   "source": [
    "def step(p1, p2):\n",
    "    if flip(p1):\n",
    "        bike_to_wellesley()\n",
    "    if flip(p2):\n",
    "        bike_to_olin()\n",
    "        \n",
    "step(p1 = 0.5, p2 = 0.33)"
   ]
  },
  {
   "cell_type": "markdown",
   "metadata": {},
   "source": [
    "## Time Series objects\n",
    "\n",
    "When we run a simulation, we usually want to save the results for later analysis. The modsim library provides a TimeSeries object for this purpose. A TimeSeries contains a sequence of time stamps and a corresponding sequence of values. In this example, the time stamps are integers representing minutes, and the values are the number of bikes at one location."
   ]
  },
  {
   "cell_type": "code",
   "execution_count": 8,
   "metadata": {},
   "outputs": [
    {
     "name": "stdout",
     "output_type": "stream",
     "text": [
      "Moving a bike to Wellesley College\n",
      "Moving a bike to Olin College\n",
      "Moving a bike to Wellesley College\n",
      "Moving a bike to Wellesley College\n",
      "Moving a bike to Olin College\n",
      "Moving a bike to Olin College\n",
      "Moving a bike to Olin College\n",
      "Moving a bike to Wellesley College\n"
     ]
    },
    {
     "data": {
      "image/png": "[encoded data removed]",
      "text/plain": [
       "<Figure size 432x288 with 1 Axes>"
      ]
     },
     "metadata": {
      "needs_background": "light"
     },
     "output_type": "display_data"
    }
   ],
   "source": [
    "# Initialise \"results\" as a TimeSeries object\n",
    "results = TimeSeries()\n",
    "\n",
    "# For the first time instance, assign a bikeshare state value for Olin college\n",
    "results[0] = bikeshare.olin\n",
    "\n",
    "# Run 10 simulations and save them in the results vector\n",
    "for i in range(10):\n",
    "    step(0.3, 0.2)\n",
    "    results[i] = bikeshare.olin\n",
    "    \n",
    "plot(results, label='Olin')\n",
    "decorate(title='Olin-Wellesley Bikeshare'\n",
    "         , xlabel='Time step (min)'\n",
    "         , ylabel='Number of bikes')"
   ]
  },
  {
   "cell_type": "markdown",
   "metadata": {},
   "source": [
    "## Improving caveats in the first created bikeshare simulation system\n",
    "\n",
    "The model we have so far is simple, but it is based on unrealistic assumptions:\n",
    "* In the model, a student is equally likely to arrive during any one-minute period. In reality, this probability varies depending on time of day, day of the week, etc.\n",
    "* The model does not account for travel time from one bike station to another.\n",
    "* The model does not check whether a bike is available, so it’s possible for the number of bikes to be negative (as you might have noticed in some of your simulations).\n",
    "\n",
    "In addition, we will be trying to address some changes to some of the functions above to make them more generalistic and easy to use in the future or with more complex conditions."
   ]
  },
  {
   "cell_type": "code",
   "execution_count": 9,
   "metadata": {},
   "outputs": [
    {
     "name": "stdout",
     "output_type": "stream",
     "text": [
      "Moving a bike to Wellesley College\n",
      "Moving a bike to Wellesley College\n"
     ]
    }
   ],
   "source": [
    "# --------------------------------------------------------------------------------------------------------------------------\n",
    "# CHANGING BIKE MOVING FUNCTIONS TO \n",
    "# 1. ACCOMODATE A \"GENERAL\" SYSTEM\n",
    "# 2. CHECKS FOR NEGATIVE BIKES\n",
    "# --------------------------------------------------------------------------------------------------------------------------\n",
    "def bike_to_wellesley(state):\n",
    "    if state.olin == 0:\n",
    "        print('There are no bikes at Olin to move to Wellesley')\n",
    "        state.olin_empty += 1 # to keep track of number of times there were no bikes\n",
    "        return\n",
    "    print('Moving a bike to Wellesley College')\n",
    "    state.olin -= 1\n",
    "    state.wellesley += 1\n",
    "    \n",
    "def bike_to_olin(state):\n",
    "    if state.wellesley == 0:\n",
    "        print('There are no bikes at Wellesley to move to Olin')\n",
    "        state.wellesley_empty += 1 # to keep track of number of times there were no bikes\n",
    "        return\n",
    "    else:\n",
    "        print('Moving a bike to Olin College')\n",
    "        state.wellesley -= 1\n",
    "        state.olin += 1  \n",
    "    \n",
    "# We can for example now, initialise 2 systems and work with them independently:\n",
    "bikeshare1 = State(olin=10, wellesley=2,olin_empty=0, wellesley_empty=0)\n",
    "bikeshare2 = State(olin=2, wellesley=10,olin_empty=0, wellesley_empty=0)\n",
    "\n",
    "bike_to_wellesley(bikeshare1)\n",
    "bike_to_wellesley(bikeshare2)"
   ]
  },
  {
   "cell_type": "markdown",
   "metadata": {},
   "source": [
    "### Run simulation function to capture all actions together"
   ]
  },
  {
   "cell_type": "code",
   "execution_count": 10,
   "metadata": {},
   "outputs": [
    {
     "name": "stdout",
     "output_type": "stream",
     "text": [
      "olin               10\n",
      "wellesley           2\n",
      "olin_empty          0\n",
      "wellesley_empty     0\n",
      "dtype: int64\n"
     ]
    }
   ],
   "source": [
    "def step(state,p1, p2):\n",
    "    if flip(p1):\n",
    "        bike_to_wellesley(state)\n",
    "    if flip(p2):\n",
    "        bike_to_olin(state)\n",
    "\n",
    "def run_simulation(p1, p2, num_steps):\n",
    "    state = State(olin=10, wellesley=2,olin_empty=0, wellesley_empty=0)\n",
    "    \n",
    "    for i in range(num_steps):\n",
    "        step(state, p1, p2)\n",
    "        return state\n",
    "    \n",
    "state = run_simulation(0.6, 0.3, 200)\n",
    "print(state)"
   ]
  },
  {
   "cell_type": "markdown",
   "metadata": {},
   "source": [
    "### Sweeping parameters\n",
    "\n",
    "If we know the actual values of parameters like p1 and p2, we can use them to make specific predictions, like how many bikes will be at Olin after one hour. But prediction is not the only goal; models like this are also used to explain why systems behave as they do and to evaluate alternative designs. For example, if we observe the system and notice that we often run out of bikes at a particular time, we could use the model to figure out why that happens. And if we are considering adding more bikes, or another station, we could evaluate the e↵ect of various “what if” scenarios.\n",
    "\n",
    "As an example, suppose we have enough data to estimate that p2 is about 0.2, but we don’t have any information about p1. We could run simulations with a range of values for p1 and see how the results vary. This process is called sweeping a parameter, in the sense that the value of the parameter “sweeps” through a range of possible values."
   ]
  },
  {
   "cell_type": "code",
   "execution_count": 11,
   "metadata": {},
   "outputs": [
    {
     "name": "stdout",
     "output_type": "stream",
     "text": [
      "0.0 0\n",
      "Moving a bike to Olin College\n",
      "0.1 0\n",
      "Moving a bike to Olin College\n",
      "0.2 0\n",
      "Moving a bike to Wellesley College\n",
      "0.30000000000000004 0\n",
      "0.4 0\n",
      "Moving a bike to Wellesley College\n",
      "0.5 0\n",
      "Moving a bike to Wellesley College\n",
      "Moving a bike to Olin College\n",
      "0.6000000000000001 0\n",
      "0.7000000000000001 0\n",
      "Moving a bike to Wellesley College\n",
      "0.8 0\n",
      "Moving a bike to Wellesley College\n",
      "Moving a bike to Olin College\n",
      "0.9 0\n",
      "Moving a bike to Wellesley College\n",
      "Moving a bike to Olin College\n",
      "1.0 0\n"
     ]
    }
   ],
   "source": [
    "p1_array = linspace(0, 1, 11)\n",
    "p2 = 0.2\n",
    "num_steps = 60\n",
    "\n",
    "for p1 in p1_array:\n",
    "    state = run_simulation(p1, p2, num_steps)\n",
    "    print(p1, state.olin_empty)"
   ]
  },
  {
   "cell_type": "markdown",
   "metadata": {},
   "source": [
    "To save and plot the results, we can use a SweepSeries object, which is similar to a TimeSeries; the di↵erence is that the labels in a SweepSeries are parameter values rather than time values."
   ]
  },
  {
   "cell_type": "code",
   "execution_count": 12,
   "metadata": {},
   "outputs": [
    {
     "name": "stdout",
     "output_type": "stream",
     "text": [
      "Moving a bike to Olin College\n",
      "Moving a bike to Wellesley College\n",
      "Moving a bike to Wellesley College\n",
      "Moving a bike to Wellesley College\n",
      "Moving a bike to Wellesley College\n",
      "Moving a bike to Wellesley College\n",
      "Moving a bike to Wellesley College\n",
      "Moving a bike to Wellesley College\n"
     ]
    },
    {
     "data": {
      "text/plain": [
       "[<matplotlib.lines.Line2D at 0xc07f630>]"
      ]
     },
     "execution_count": 12,
     "metadata": {},
     "output_type": "execute_result"
    },
    {
     "data": {
      "image/png": "[encoded data removed]",
      "text/plain": [
       "<Figure size 432x288 with 1 Axes>"
      ]
     },
     "metadata": {
      "needs_background": "light"
     },
     "output_type": "display_data"
    }
   ],
   "source": [
    "sweep_olin_empty = SweepSeries()\n",
    "sweep_olin_bikes = SweepSeries()\n",
    "\n",
    "for p1 in p1_array:\n",
    "    state = run_simulation(p1, p2, num_steps)\n",
    "    sweep_olin_empty[p1] = state.olin_empty\n",
    "    sweep_olin_bikes[p1] = state.olin\n",
    "\n",
    "plot(sweep_olin_empty, label='Olin')\n",
    "plot(sweep_olin_bikes, label='Olin')"
   ]
  },
  {
   "cell_type": "markdown",
   "metadata": {},
   "source": [
    "# World population - simulating population growth"
   ]
  },
  {
   "cell_type": "code",
   "execution_count": 13,
   "metadata": {},
   "outputs": [],
   "source": [
    "# Reading the data\n",
    "from pandas import read_html\n",
    "\n",
    "filename = 'data/World_population_estimates.html'\n",
    "tables = read_html(filename,header=0,index_col=0,decimal='M')"
   ]
  },
  {
   "cell_type": "code",
   "execution_count": 14,
   "metadata": {},
   "outputs": [
    {
     "data": {
      "text/html": [
       "<div>\n",
       "<style scoped>\n",
       "    .dataframe tbody tr th:only-of-type {\n",
       "        vertical-align: middle;\n",
       "    }\n",
       "\n",
       "    .dataframe tbody tr th {\n",
       "        vertical-align: top;\n",
       "    }\n",
       "\n",
       "    .dataframe thead th {\n",
       "        text-align: right;\n",
       "    }\n",
       "</style>\n",
       "<table border=\"1\" class=\"dataframe\">\n",
       "  <thead>\n",
       "    <tr style=\"text-align: right;\">\n",
       "      <th></th>\n",
       "      <th>United States Census Bureau (2017)[28]</th>\n",
       "      <th>Population Reference Bureau (1973–2016)[15]</th>\n",
       "      <th>United Nations Department of Economic and Social Affairs (2015)[16]</th>\n",
       "      <th>Maddison (2008)[17]</th>\n",
       "      <th>HYDE (2007)[24]</th>\n",
       "      <th>Tanton (1994)[18]</th>\n",
       "      <th>Biraben (1980)[19]</th>\n",
       "      <th>McEvedy &amp; Jones (1978)[20]</th>\n",
       "      <th>Thomlinson (1975)[21]</th>\n",
       "      <th>Durand (1974)[22]</th>\n",
       "      <th>Clark (1967)[23]</th>\n",
       "    </tr>\n",
       "    <tr>\n",
       "      <th>Year</th>\n",
       "      <th></th>\n",
       "      <th></th>\n",
       "      <th></th>\n",
       "      <th></th>\n",
       "      <th></th>\n",
       "      <th></th>\n",
       "      <th></th>\n",
       "      <th></th>\n",
       "      <th></th>\n",
       "      <th></th>\n",
       "      <th></th>\n",
       "    </tr>\n",
       "  </thead>\n",
       "  <tbody>\n",
       "    <tr>\n",
       "      <th>1950</th>\n",
       "      <td>2557628654</td>\n",
       "      <td>2.516000e+09</td>\n",
       "      <td>2.525149e+09</td>\n",
       "      <td>2.544000e+09</td>\n",
       "      <td>2.527960e+09</td>\n",
       "      <td>2.400000e+09</td>\n",
       "      <td>2.527000e+09</td>\n",
       "      <td>2.500000e+09</td>\n",
       "      <td>2.400000e+09</td>\n",
       "      <td>NaN</td>\n",
       "      <td>2.486000e+09</td>\n",
       "    </tr>\n",
       "    <tr>\n",
       "      <th>1951</th>\n",
       "      <td>2594939877</td>\n",
       "      <td>NaN</td>\n",
       "      <td>2.572851e+09</td>\n",
       "      <td>2.571663e+09</td>\n",
       "      <td>NaN</td>\n",
       "      <td>NaN</td>\n",
       "      <td>NaN</td>\n",
       "      <td>NaN</td>\n",
       "      <td>NaN</td>\n",
       "      <td>NaN</td>\n",
       "      <td>NaN</td>\n",
       "    </tr>\n",
       "    <tr>\n",
       "      <th>1952</th>\n",
       "      <td>2636772306</td>\n",
       "      <td>NaN</td>\n",
       "      <td>2.619292e+09</td>\n",
       "      <td>2.617949e+09</td>\n",
       "      <td>NaN</td>\n",
       "      <td>NaN</td>\n",
       "      <td>NaN</td>\n",
       "      <td>NaN</td>\n",
       "      <td>NaN</td>\n",
       "      <td>NaN</td>\n",
       "      <td>NaN</td>\n",
       "    </tr>\n",
       "    <tr>\n",
       "      <th>1953</th>\n",
       "      <td>2682053389</td>\n",
       "      <td>NaN</td>\n",
       "      <td>2.665865e+09</td>\n",
       "      <td>2.665959e+09</td>\n",
       "      <td>NaN</td>\n",
       "      <td>NaN</td>\n",
       "      <td>NaN</td>\n",
       "      <td>NaN</td>\n",
       "      <td>NaN</td>\n",
       "      <td>NaN</td>\n",
       "      <td>NaN</td>\n",
       "    </tr>\n",
       "    <tr>\n",
       "      <th>1954</th>\n",
       "      <td>2730228104</td>\n",
       "      <td>NaN</td>\n",
       "      <td>2.713172e+09</td>\n",
       "      <td>2.716927e+09</td>\n",
       "      <td>NaN</td>\n",
       "      <td>NaN</td>\n",
       "      <td>NaN</td>\n",
       "      <td>NaN</td>\n",
       "      <td>NaN</td>\n",
       "      <td>NaN</td>\n",
       "      <td>NaN</td>\n",
       "    </tr>\n",
       "  </tbody>\n",
       "</table>\n",
       "</div>"
      ],
      "text/plain": [
       "      United States Census Bureau (2017)[28]  \\\n",
       "Year                                           \n",
       "1950                              2557628654   \n",
       "1951                              2594939877   \n",
       "1952                              2636772306   \n",
       "1953                              2682053389   \n",
       "1954                              2730228104   \n",
       "\n",
       "      Population Reference Bureau (1973–2016)[15]  \\\n",
       "Year                                                \n",
       "1950                                 2.516000e+09   \n",
       "1951                                          NaN   \n",
       "1952                                          NaN   \n",
       "1953                                          NaN   \n",
       "1954                                          NaN   \n",
       "\n",
       "      United Nations Department of Economic and Social Affairs (2015)[16]  \\\n",
       "Year                                                                        \n",
       "1950                                       2.525149e+09                     \n",
       "1951                                       2.572851e+09                     \n",
       "1952                                       2.619292e+09                     \n",
       "1953                                       2.665865e+09                     \n",
       "1954                                       2.713172e+09                     \n",
       "\n",
       "      Maddison (2008)[17]  HYDE (2007)[24]  Tanton (1994)[18]  \\\n",
       "Year                                                            \n",
       "1950         2.544000e+09     2.527960e+09       2.400000e+09   \n",
       "1951         2.571663e+09              NaN                NaN   \n",
       "1952         2.617949e+09              NaN                NaN   \n",
       "1953         2.665959e+09              NaN                NaN   \n",
       "1954         2.716927e+09              NaN                NaN   \n",
       "\n",
       "      Biraben (1980)[19]  McEvedy & Jones (1978)[20]  Thomlinson (1975)[21]  \\\n",
       "Year                                                                          \n",
       "1950        2.527000e+09                2.500000e+09           2.400000e+09   \n",
       "1951                 NaN                         NaN                    NaN   \n",
       "1952                 NaN                         NaN                    NaN   \n",
       "1953                 NaN                         NaN                    NaN   \n",
       "1954                 NaN                         NaN                    NaN   \n",
       "\n",
       "     Durand (1974)[22]  Clark (1967)[23]  \n",
       "Year                                      \n",
       "1950               NaN      2.486000e+09  \n",
       "1951               NaN               NaN  \n",
       "1952               NaN               NaN  \n",
       "1953               NaN               NaN  \n",
       "1954               NaN               NaN  "
      ]
     },
     "execution_count": 14,
     "metadata": {},
     "output_type": "execute_result"
    }
   ],
   "source": [
    "table2 = tables[2]\n",
    "table2.head()"
   ]
  },
  {
   "cell_type": "code",
   "execution_count": 15,
   "metadata": {},
   "outputs": [],
   "source": [
    "table2.columns = ['census','prb','un','maddison','hyde','tanton','biraben','mj','thomlinson','durand','clark']"
   ]
  },
  {
   "cell_type": "markdown",
   "metadata": {},
   "source": [
    "These lines select the estimates generated by the United Nations Department of Economic and Social A↵airs (UN DESA) and the United States Census Bureau. Each result is a Pandas Series, which is like a DataFrame with just one column. The number 1e9 is a shorter, less error-prone way to write 1000000000 or one billion. When we divide a Series by a number, it divides all of the elements of the Series. From here on, we’ll express population estimates in terms of billions."
   ]
  },
  {
   "cell_type": "code",
   "execution_count": 16,
   "metadata": {},
   "outputs": [
    {
     "data": {
      "text/plain": [
       "[<matplotlib.lines.Line2D at 0xc8c3908>]"
      ]
     },
     "execution_count": 16,
     "metadata": {},
     "output_type": "execute_result"
    },
    {
     "data": {
      "image/png": "[encoded data removed]",
      "text/plain": [
       "<Figure size 432x288 with 1 Axes>"
      ]
     },
     "metadata": {
      "needs_background": "light"
     },
     "output_type": "display_data"
    }
   ],
   "source": [
    "census = table2.census / 1e9\n",
    "un = table2.un / 1e9\n",
    "\n",
    "plot(census,':', label='US Census')\n",
    "plot(un, '--', label='UN DESA')"
   ]
  },
  {
   "cell_type": "markdown",
   "metadata": {},
   "source": [
    "## Growth model 1 - Linear constant growth\n",
    "\n",
    "Suppose we want to predict world population growth over the next 50 or 100 years. We can do that by developing a model that describes how populations grow, fitting the model to the data we have so far, and then using the model to generate predictions.\n",
    "\n",
    "Although there is some curvature in the plotted estimates, it looks like world population growth has been close to linear since 1960 or so. So we’ll start with a model that has constant growth. To fit the model to the data, we’ll compute the average annual growth from 1950 to 2016. Since the UN and Census data are so close, we’ll use the Census data."
   ]
  },
  {
   "cell_type": "code",
   "execution_count": 17,
   "metadata": {},
   "outputs": [],
   "source": [
    "t_0 = get_first_label(census)\n",
    "t_end = get_last_label(census)\n",
    "elapsed_time = t_end - t_0\n",
    "\n",
    "p_0 = get_first_value(census)\n",
    "p_end = get_last_value(census)\n",
    "total_growth = p_end - p_0\n",
    "\n",
    "annual_growth = total_growth / elapsed_time"
   ]
  },
  {
   "cell_type": "code",
   "execution_count": 18,
   "metadata": {},
   "outputs": [],
   "source": [
    "# Initialise time series object\n",
    "results = TimeSeries()\n",
    "\n",
    "# Assign to first 'time' the value at p0 of the census data\n",
    "results[t_0] = p_0\n",
    "\n",
    "# Simulate growth with the constant calculated above\n",
    "for t in linrange(t_0, t_end):\n",
    "    results[t+1] = results[t] + annual_growth"
   ]
  },
  {
   "cell_type": "code",
   "execution_count": 19,
   "metadata": {},
   "outputs": [
    {
     "data": {
      "image/png": "[encoded data removed]",
      "text/plain": [
       "<Figure size 432x288 with 1 Axes>"
      ]
     },
     "metadata": {
      "needs_background": "light"
     },
     "output_type": "display_data"
    }
   ],
   "source": [
    "plot(census, ':', label='US Census')\n",
    "plot(un, '--', label='UN DESA')\n",
    "plot(results, color='gray', label='model')\n",
    "\n",
    "decorate(xlabel='Year', \n",
    "         ylabel='World population (billion)',\n",
    "         title='Constant growth')"
   ]
  },
  {
   "cell_type": "markdown",
   "metadata": {},
   "source": [
    "The model does not fit the data particularly well from 1950 to 1990, but after that, it’s pretty good. Nevertheless, there are\n",
    "problems: \n",
    "* There is no obvious mechanism that could cause population growth to be constant from year to year. Changes in population are determined by the fraction of people who die and the fraction of people who give birth, so we expect them to depend on the current population.\n",
    "* According to this model, we would expect the population to keep growing at the same rate forever, and that does not seem reasonable.\n",
    "\n",
    "We’ll try out some di↵erent models in the next few sections, but first let’s clean up the code."
   ]
  },
  {
   "cell_type": "markdown",
   "metadata": {},
   "source": [
    "## System objects\n",
    "\n",
    "Like a **State** object, a **System** object contains variables and their values. The di↵erence is:\n",
    "* State objects contain **state variables**, which represent the state of the system, which **get updated in the course of a simulation**.\n",
    "* System objects contain **system variables**, which represent parameters of the system, which usually **don’t get updated over the course of a simulation.**\n",
    "\n",
    "For example:\n",
    "* In the *bike share model*, State variables include the number of bikes at each location, which get updated whenever a customer moves a bike. System variables include the number of locations, total number of bikes, and arrival rates at each location.\n",
    "* In the *population model*, the only state variable is the population. System variables include the annual growth rate, the initial time and population, and the end time."
   ]
  },
  {
   "cell_type": "code",
   "execution_count": 20,
   "metadata": {},
   "outputs": [
    {
     "data": {
      "image/png": "[encoded data removed]",
      "text/plain": [
       "<Figure size 432x288 with 1 Axes>"
      ]
     },
     "metadata": {
      "needs_background": "light"
     },
     "output_type": "display_data"
    }
   ],
   "source": [
    "system = System(t_0=t_0, t_end=t_end, p_0=p_0, annual_growth=annual_growth)\n",
    "\n",
    "def run_simulation1(system):\n",
    "    results = TimeSeries()\n",
    "    \n",
    "    results[system.t_0] = system.p_0\n",
    "    \n",
    "    for t in linrange(system.t_0, system.t_end):\n",
    "        results[t+1] = results[t] + system.annual_growth\n",
    "    \n",
    "    return results\n",
    "    \n",
    "def plot_results(census, un, timeseries, title):\n",
    "    plot(census,':', label='US Census')\n",
    "    plot(un,'--', label='UN DESA')\n",
    "    plot(timeseries, color='gray', label='model')\n",
    "    decorate(xlabel='Year',ylabel='World population (billion)',title=title)  \n",
    "    \n",
    "results = run_simulation1(system)\n",
    "plot_results(census, un, results, 'Constant growth model')"
   ]
  },
  {
   "cell_type": "markdown",
   "metadata": {},
   "source": [
    "It might not be obvious that using functions and System objects is a big improvement, and for a simple model that we run only once, maybe it’s not.\n",
    "But as we work with more complex models, and when we run many simulations with di↵erent parameters, we’ll see that the organization of the code makes a\n",
    "big di↵erence. Now let’s see if we can improve the model."
   ]
  },
  {
   "cell_type": "markdown",
   "metadata": {},
   "source": [
    "## Improve the model with a proportional growth\n",
    "\n",
    "The biggest problem with the constant growth model is that it doesn’t make any sense. It is hard to imagine how people all over the world could conspire to keep population growth constant from year to year. On the other hand, if some fraction of the population dies each year, and some fraction gives birth, we can compute the net change in the population like this:"
   ]
  },
  {
   "cell_type": "code",
   "execution_count": 21,
   "metadata": {},
   "outputs": [
    {
     "data": {
      "image/png": "[encoded data removed]",
      "text/plain": [
       "<Figure size 432x288 with 1 Axes>"
      ]
     },
     "metadata": {
      "needs_background": "light"
     },
     "output_type": "display_data"
    }
   ],
   "source": [
    "def run_simulation2(system):\n",
    "    results = TimeSeries()\n",
    "    results[system.t_0] = system.p_0\n",
    "\n",
    "    for t in linrange(system.t_0, system.t_end):\n",
    "        births = system.birth_rate * results[t]\n",
    "        deaths = system.death_rate * results[t]\n",
    "        results[t+1] = results[t] + births - deaths\n",
    "        \n",
    "    return results\n",
    "\n",
    "# So if we chose a certain value for birth and death rate..\n",
    "system.death_rate = 0.01\n",
    "system.birth_rate = 0.027\n",
    "\n",
    "results = run_simulation2(system)\n",
    "plot_results(census, un, results,'Proportional model')"
   ]
  },
  {
   "cell_type": "markdown",
   "metadata": {},
   "source": [
    "##  Code clean up\n",
    "\n",
    "run_simulation1 and run_simulation2 are nearly identical except for the body of the for loop, where we compute the population for the next year. Rather than repeat identical code, we can separate the things that change from the things that don’t."
   ]
  },
  {
   "cell_type": "code",
   "execution_count": 22,
   "metadata": {},
   "outputs": [],
   "source": [
    "def update_func1(pop, t, system):\n",
    "    births = system.birth_rate * pop\n",
    "    deaths = system.death_rate * pop\n",
    "    return pop + births - deaths\n",
    "\n",
    "def run_simulation(system, update_func):\n",
    "    results = TimeSeries()\n",
    "    results[system.t_0] = system.p_0\n",
    "    \n",
    "    for t in linrange(system.t_0, system.t_end):\n",
    "        results[t+1] = update_func(results[t], t, system)\n",
    "    \n",
    "    return results\n",
    "\n",
    "results = run_simulation(system, update_func1)"
   ]
  },
  {
   "cell_type": "markdown",
   "metadata": {},
   "source": [
    "While we are at it, we can also simplify the code by combining births and deaths to compute the net growth rate. Instead of two parameters, birth_rate and death_rate, we can write the update function in terms of a single parameter that represents the di↵erence: "
   ]
  },
  {
   "cell_type": "code",
   "execution_count": 23,
   "metadata": {},
   "outputs": [],
   "source": [
    "system.alpha = system.birth_rate - system.death_rate\n",
    "\n",
    "def update_func2(pop, t, system):\n",
    "    net_growth = system.alpha * pop\n",
    "    return pop + net_growth\n",
    "\n",
    "results = run_simulation(system, update_func2)"
   ]
  },
  {
   "cell_type": "markdown",
   "metadata": {},
   "source": [
    "## Quadratic growth\n",
    "\n",
    "We can test that conjecture with a new update function:"
   ]
  },
  {
   "cell_type": "code",
   "execution_count": 24,
   "metadata": {},
   "outputs": [
    {
     "data": {
      "image/png": "[encoded data removed]",
      "text/plain": [
       "<Figure size 432x288 with 1 Axes>"
      ]
     },
     "metadata": {
      "needs_background": "light"
     },
     "output_type": "display_data"
    }
   ],
   "source": [
    "def update_func_quad(pop, t, system):\n",
    "    net_growth = system.alpha * pop + system.beta * pop**2\n",
    "    return pop + net_growth\n",
    "\n",
    "t_0 = get_first_label(census)\n",
    "t_end = get_last_label(census)\n",
    "p_0 = census[t_0]\n",
    "\n",
    "system = System(t_0=t_0, t_end=t_end, p_0=p_0, alpha=0.025, beta=-0.0018)\n",
    "\n",
    "results = run_simulation(system, update_func_quad)\n",
    "plot_results(census, un, results, 'Quadratic model')"
   ]
  },
  {
   "cell_type": "markdown",
   "metadata": {},
   "source": [
    "Of course, we should expect the quadratic model to fit better than the constant and proportional models because it has two parameters we can choose, where the other models have only one. In general, the more parameters you have to play with, the better you should expect the model to fit.\n",
    "\n",
    "But fitting the data is not the only reason to think the quadratic model might be a good choice. It also makes sense; that is, there is a legitimate reason to expect the relationship between growth and population to have this form. To understand it, let’s look at net growth as a function of population."
   ]
  },
  {
   "cell_type": "code",
   "execution_count": 25,
   "metadata": {},
   "outputs": [
    {
     "data": {
      "text/plain": [
       "[<matplotlib.lines.Line2D at 0xccb8588>]"
      ]
     },
     "execution_count": 25,
     "metadata": {},
     "output_type": "execute_result"
    },
    {
     "data": {
      "image/png": "[encoded data removed]",
      "text/plain": [
       "<Figure size 432x288 with 1 Axes>"
      ]
     },
     "metadata": {
      "needs_background": "light"
     },
     "output_type": "display_data"
    }
   ],
   "source": [
    "pop_array = linspace(0, 15, 100)\n",
    "net_growth_array = (system.alpha * pop_array + system.beta * pop_array**2)\n",
    "plot(pop_array, net_growth_array)"
   ]
  },
  {
   "cell_type": "markdown",
   "metadata": {},
   "source": [
    "We can divide this curve into four regimes of behavior:\n",
    "* When the population is less than 3-4 billion, net growth is proportional to population, as in the proportional model. In this regime, the population grows slowly because the population is small.\n",
    "* Between 4 billion and 10 billion, the population grows quickly because there are a lot of people.\n",
    "* Above 10 billion, population grows more slowly; this behavior models the e↵ect of resource limitations that lower birth rates or increase death rates.\n",
    "* Above 14 billion, resources are so limited that the death rate exceeds the birth rate and net growth becomes negative.\n",
    "* Just below 14 billion, there is a point where net growth is 0, which means that the population does not change. At this point, the birth and death rates are equal, so the population is in equilibrium."
   ]
  },
  {
   "cell_type": "markdown",
   "metadata": {},
   "source": [
    "# Projections using our simulation model\n",
    "\n",
    "We’ll use the quadratic model to generate projections of future growth, and compare our results to projections from actual demographers. Also, we’ll represent the models from the previous sections as di↵erential equations and solve them analytically."
   ]
  },
  {
   "cell_type": "code",
   "execution_count": 26,
   "metadata": {},
   "outputs": [
    {
     "data": {
      "image/png": "[encoded data removed]",
      "text/plain": [
       "<Figure size 432x288 with 1 Axes>"
      ]
     },
     "metadata": {
      "needs_background": "light"
     },
     "output_type": "display_data"
    }
   ],
   "source": [
    "t_0 = get_first_label(census)\n",
    "t_end = get_last_label(census)\n",
    "p_0 = census[t_0]\n",
    "\n",
    "system = System(t_0=t_0, t_end=t_end, p_0=p_0, alpha=0.025, beta=-0.0018)\n",
    "\n",
    "results = run_simulation(system, update_func_quad)\n",
    "plot_results(census, un, results, 'Quadratic model')"
   ]
  },
  {
   "cell_type": "code",
   "execution_count": 27,
   "metadata": {},
   "outputs": [
    {
     "data": {
      "image/png": "[encoded data removed]",
      "text/plain": [
       "<Figure size 432x288 with 1 Axes>"
      ]
     },
     "metadata": {
      "needs_background": "light"
     },
     "output_type": "display_data"
    }
   ],
   "source": [
    "system.t_end = 2250\n",
    "results = run_simulation(system, update_func_quad)\n",
    "\n",
    "plot_results(census, un, results, 'Quadratic model')"
   ]
  },
  {
   "cell_type": "markdown",
   "metadata": {},
   "source": [
    "A projection until 2250. According to this model, population growth will continue almost linearly for the next 50–100 years, then slow over the following 100 years, approaching 13.9 billion by 2250. \n",
    "\n",
    "I am using the word “projection” deliberately, rather than “prediction”, with the following distinction: “prediction” implies something like “this is what we should reasonably expect to happen, at least approximately”; “projection” implies something like “if this model is actually a good description of what is happening in this system, and if nothing in the future causes the parameters of the model to change, this is what would happen.” Using “projection” leaves open the possibility that there are important things in the real world that are not captured in the model. It also suggests that, even if the model is good, the parameters we estimate based on the past might be di↵erent in the future."
   ]
  },
  {
   "cell_type": "markdown",
   "metadata": {},
   "source": [
    "# Differential Equations sig SimPy\n",
    "\n",
    "In this chapter we express the models from previous chapters as di↵erence equations and di↵erential equations, solve the equations, and derive the functional forms of the solutions.\n",
    "\n",
    "Once you have designed a model, there are generally two ways to proceed: simulation and analysis. \n",
    "* Simulation often comes in the form of a computer program that models changes in a system over time, like births and deaths, or bikes moving from place to place. \n",
    "* Analysis often comes in the form of algebra; that is, symbolic manipulation using mathematical notation.\n",
    "\n",
    "Analysis and simulation have different capabilities and limitations. Simulation is generally more versatile; it is easy to add and remove parts of a program and test many versions of a model, as we have done in the previous examples.\n",
    "\n",
    "But there are several things we can do with analysis that are harder or impossible with simulations:\n",
    "* With analysis we can sometimes compute, exactly and efficiently, a value that we could only approximate, less efficiently, with simulation. For example, we can see that net growth goes to zero near 14 billion, and we could estimate carrying capacity using a numerical search algorithm (more about that later). But we could also derive, equal to 0 and solve X to find the specific constant K. In this case, the formula would be defined by K = -a/b.\n",
    "* Analysis often provides “computational shortcuts”, that is, the ability to jump forward in time to compute the state of a system many time steps in the future without computing the intervening states\n",
    "* We can use analysis to state and prove generalizations about models; for example, we might prove that certain results will always or never occur. With simulations, we can show examples and sometimes find counterexamples, but it is hard to write proofs.\n",
    "* Analysis can provide insight into models and the systems they describe; for example, sometimes we can identify regimes of qualitatively di↵erent behavior and key parameters that control those behaviors.\n",
    "\n"
   ]
  },
  {
   "cell_type": "markdown",
   "metadata": {},
   "source": [
    "## Symbols and functions\n",
    "\n",
    "The symbols function takes a string and returns Symbol objects. So if we run this assignment:"
   ]
  },
  {
   "cell_type": "code",
   "execution_count": 30,
   "metadata": {},
   "outputs": [
    {
     "data": {
      "text/plain": [
       "3"
      ]
     },
     "execution_count": 30,
     "metadata": {},
     "output_type": "execute_result"
    }
   ],
   "source": [
    "# import everything from SymPy.\n",
    "from sympy import *\n",
    "\n",
    "t = symbols('t')\n",
    "\n",
    "# Python understands that t is a symbol, not a numerical value. If we now run \n",
    "expr = t + 1\n",
    "\n",
    "# Python doesn’t try to perform numerical addition; rather, it creates a new \n",
    "# Symbol that represents the sum of t and 1. We can evaluate the sum using\n",
    "# subs, which substitutes a value for a symbol.\n",
    "\n",
    "expr.subs(t, 2)"
   ]
  },
  {
   "cell_type": "markdown",
   "metadata": {},
   "source": [
    "Functions in SymPy are represented by a special kind of Symbol"
   ]
  },
  {
   "cell_type": "code",
   "execution_count": 31,
   "metadata": {},
   "outputs": [],
   "source": [
    "f = Function('f')\n",
    "\n",
    "# Now if we write f(t), we get an object that represents the evaluation of a\n",
    "# function, f, at a value, t. But again SymPy doesn’t actually try to evaluate\n",
    "# it."
   ]
  },
  {
   "cell_type": "markdown",
   "metadata": {},
   "source": [
    "## Solving the proportional model growth function"
   ]
  },
  {
   "cell_type": "markdown",
   "metadata": {},
   "source": [
    "SymPy provides a function, diff, that can differentiate a function. We can apply it to f(t) like this:"
   ]
  },
  {
   "cell_type": "code",
   "execution_count": 32,
   "metadata": {},
   "outputs": [],
   "source": [
    "from sympy import *\n",
    "\n",
    "dfdt = diff(f(t), t)\n",
    "\n",
    "# The result is a Symbol that represents the derivative of f with respect to t.\n",
    "# But again, SymPy doesn’t try to compute the derivative yet."
   ]
  },
  {
   "cell_type": "markdown",
   "metadata": {},
   "source": [
    "So, for example, take the proportional growth model formula below:\n",
    "$$\\frac{d}{dt}f(t)=alpha*f(t)$$\n",
    "\n",
    "We can assign the formula above using the **Eq** (and also remember to assign to any variable as a **Symbols** object):"
   ]
  },
  {
   "cell_type": "code",
   "execution_count": 34,
   "metadata": {},
   "outputs": [
    {
     "data": {
      "text/plain": [
       "Eq(Derivative(f(t), t), alpha*f(t))"
      ]
     },
     "execution_count": 34,
     "metadata": {},
     "output_type": "execute_result"
    }
   ],
   "source": [
    "alpha = symbols('alpha')\n",
    "eq1 = Eq(dfdt, alpha*f(t))\n",
    "eq1"
   ]
  },
  {
   "cell_type": "markdown",
   "metadata": {},
   "source": [
    "Once we have the formula defined, in order to solve the differential equation, we use **dsolve**:"
   ]
  },
  {
   "cell_type": "code",
   "execution_count": 35,
   "metadata": {},
   "outputs": [
    {
     "data": {
      "text/plain": [
       "Eq(f(t), C1*exp(alpha*t))"
      ]
     },
     "execution_count": 35,
     "metadata": {},
     "output_type": "execute_result"
    }
   ],
   "source": [
    "solution_eq = dsolve(eq1)\n",
    "solution_eq"
   ]
  },
  {
   "cell_type": "markdown",
   "metadata": {},
   "source": [
    "$$f(t) = C_{1}*exp(alpha*t)$$"
   ]
  },
  {
   "cell_type": "markdown",
   "metadata": {},
   "source": [
    "This is the general solution, which still contains an unspecified constant, C1. \n",
    "\n",
    "To get the particular solution, we need to solve the value for C1. To do that, we solve the formula where f(0) = p0 and we substitute p0 for C1. First, we have to create two more symbols:"
   ]
  },
  {
   "cell_type": "code",
   "execution_count": 36,
   "metadata": {},
   "outputs": [
    {
     "data": {
      "text/plain": [
       "Eq(f(t), p_0*exp(alpha*t))"
      ]
     },
     "execution_count": 36,
     "metadata": {},
     "output_type": "execute_result"
    }
   ],
   "source": [
    "C1 = symbols('C1')\n",
    "p_0 = symbols('p_0')\n",
    "particular = solution_eq.subs(C1, p_0)\n",
    "particular"
   ]
  },
  {
   "cell_type": "markdown",
   "metadata": {},
   "source": [
    "## Solving the quadratic growth model function\n",
    "\n",
    "Let's repeat the process to solve the more complex equations we introduced. Remember the equation that we were using:\n",
    "$$net growth = system.alpha * pop + system.beta * pop^2$$\n",
    "\n",
    "So, we want to solve the following equation:\n",
    "$$ \\frac{d}{dt}f(t) = alpha*f(t)*+beta*f(t)^2$$"
   ]
  },
  {
   "cell_type": "code",
   "execution_count": 38,
   "metadata": {},
   "outputs": [
    {
     "data": {
      "text/plain": [
       "Eq(Derivative(f(t), t), alpha1*f(t) + beta1*f(t)**2)"
      ]
     },
     "execution_count": 38,
     "metadata": {},
     "output_type": "execute_result"
    }
   ],
   "source": [
    "alpha1 = symbols('alpha1')\n",
    "beta1 = symbols('beta1')\n",
    "eq2 = Eq(diff(f(t), t), alpha1 * f(t) + beta1 * f(t) ** 2)\n",
    "eq2"
   ]
  },
  {
   "cell_type": "code",
   "execution_count": 39,
   "metadata": {},
   "outputs": [
    {
     "data": {
      "text/plain": [
       "Eq(f(t), alpha1*exp(alpha1*(C1 + t))/(beta1*(-exp(alpha1*(C1 + t)) + 1)))"
      ]
     },
     "execution_count": 39,
     "metadata": {},
     "output_type": "execute_result"
    }
   ],
   "source": [
    "solution_eq = dsolve(eq2)\n",
    "solution_eq"
   ]
  },
  {
   "cell_type": "markdown",
   "metadata": {},
   "source": [
    "General solution is:\n",
    "$$ f(t) = \\frac{alpha*exp(alpha*(C1 + t))}{beta*(1-exp(alpha*(C1+t)))}$$"
   ]
  },
  {
   "cell_type": "code",
   "execution_count": 40,
   "metadata": {},
   "outputs": [],
   "source": [
    "# solution_eq.rhs --> right hand side solution\n",
    "general = solution_eq.rhs"
   ]
  },
  {
   "cell_type": "markdown",
   "metadata": {},
   "source": [
    "Now we want to extract the value of C1. To do that we solve the equation when f(t = 0) and equal to p0. Because this is just an algebraic identity, not a differential equation, we use solve, not dsolve."
   ]
  },
  {
   "cell_type": "code",
   "execution_count": 42,
   "metadata": {},
   "outputs": [
    {
     "data": {
      "text/plain": [
       "alpha1*exp(C1*alpha1)/(beta1*(-exp(C1*alpha1) + 1))"
      ]
     },
     "execution_count": 42,
     "metadata": {},
     "output_type": "execute_result"
    }
   ],
   "source": [
    "# 1. Substitute \"t\" with 0\n",
    "at_0 = general.subs(t, 0)\n",
    "at_0"
   ]
  },
  {
   "cell_type": "code",
   "execution_count": 43,
   "metadata": {},
   "outputs": [
    {
     "data": {
      "text/plain": [
       "[log(beta1*p_0/(alpha1 + beta1*p_0))/alpha1]"
      ]
     },
     "execution_count": 43,
     "metadata": {},
     "output_type": "execute_result"
    }
   ],
   "source": [
    "# 2. Solve C1 when at_0 formula = p_0\n",
    "solutions = solve(Eq(at_0, p_0), C1)\n",
    "solutions"
   ]
  },
  {
   "cell_type": "code",
   "execution_count": 44,
   "metadata": {},
   "outputs": [
    {
     "data": {
      "text/plain": [
       "log(beta1*p_0/(alpha1 + beta1*p_0))/alpha1"
      ]
     },
     "execution_count": 44,
     "metadata": {},
     "output_type": "execute_result"
    }
   ],
   "source": [
    "# 3. C1 = [log(beta1*p_0/(alpha1 + beta1*p_0))/alpha1] --> so, solving for p_0 = 0...\n",
    "value_of_C1 = solutions[0]\n",
    "value_of_C1"
   ]
  },
  {
   "cell_type": "code",
   "execution_count": 45,
   "metadata": {},
   "outputs": [
    {
     "data": {
      "text/plain": [
       "alpha1*exp(alpha1*(t + log(beta1*p_0/(alpha1 + beta1*p_0))/alpha1))/(beta1*(-exp(alpha1*(t + log(beta1*p_0/(alpha1 + beta1*p_0))/alpha1)) + 1))"
      ]
     },
     "execution_count": 45,
     "metadata": {},
     "output_type": "execute_result"
    }
   ],
   "source": [
    "# 4. Last step is to substitute into the general formula the value of C1 we just found\n",
    "particular = general.subs(C1, value_of_C1)\n",
    "particular"
   ]
  },
  {
   "cell_type": "code",
   "execution_count": 46,
   "metadata": {},
   "outputs": [
    {
     "data": {
      "text/plain": [
       "alpha1*p_0*exp(alpha1*t)/(alpha1 - beta1*p_0*exp(alpha1*t) + beta1*p_0)"
      ]
     },
     "execution_count": 46,
     "metadata": {},
     "output_type": "execute_result"
    }
   ],
   "source": [
    "# 5. Doesn't look nice right? Let's simplify\n",
    "particular = simplify(particular)\n",
    "particular"
   ]
  },
  {
   "cell_type": "markdown",
   "metadata": {},
   "source": [
    "$$ \\frac{alpha1*p_0*exp(alpha1*t)}{alpha - beta1*p_0*exp(alpha1*t) + beta1*p_0}$$\n",
    "\n",
    "to\n",
    "\n",
    "$$ \\frac{alpha1*p_0*exp(alpha1*t)}{alpha - beta1*p_0*(1 + exp(alpha1*t))}$$"
   ]
  }
 ],
 "metadata": {
  "kernelspec": {
   "display_name": "Python 3",
   "language": "python",
   "name": "python3"
  },
  "language_info": {
   "codemirror_mode": {
    "name": "ipython",
    "version": 3
   },
   "file_extension": ".py",
   "mimetype": "text/x-python",
   "name": "python",
   "nbconvert_exporter": "python",
   "pygments_lexer": "ipython3",
   "version": "3.6.8"
  },
  "toc": {
   "base_numbering": 1,
   "nav_menu": {},
   "number_sections": true,
   "sideBar": true,
   "skip_h1_title": false,
   "title_cell": "Table of Contents",
   "title_sidebar": "Contents",
   "toc_cell": true,
   "toc_position": {},
   "toc_section_display": true,
   "toc_window_display": true
  }
 },
 "nbformat": 4,
 "nbformat_minor": 2
}
